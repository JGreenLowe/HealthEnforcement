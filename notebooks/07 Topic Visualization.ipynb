{
 "cells": [
  {
   "cell_type": "code",
   "execution_count": 16,
   "metadata": {},
   "outputs": [],
   "source": [
    "import pandas as pd\n",
    "import numpy as np\n",
    "import spacy\n",
    "import re\n",
    "import pickle\n",
    "\n",
    "from gensim.models import Phrases, LdaModel, CoherenceModel, Word2Vec\n",
    "from gensim.models.word2vec import LineSentence\n",
    "from gensim.corpora import Dictionary, MmCorpus\n",
    "from gensim.test.utils import datapath\n",
    "\n",
    "import pyLDAvis\n",
    "import pyLDAvis.gensim\n",
    "\n",
    "from ast import literal_eval"
   ]
  },
  {
   "cell_type": "code",
   "execution_count": 17,
   "metadata": {},
   "outputs": [
    {
     "data": {
      "text/html": [
       "<div>\n",
       "<style scoped>\n",
       "    .dataframe tbody tr th:only-of-type {\n",
       "        vertical-align: middle;\n",
       "    }\n",
       "\n",
       "    .dataframe tbody tr th {\n",
       "        vertical-align: top;\n",
       "    }\n",
       "\n",
       "    .dataframe thead th {\n",
       "        text-align: right;\n",
       "    }\n",
       "</style>\n",
       "<table border=\"1\" class=\"dataframe\">\n",
       "  <thead>\n",
       "    <tr style=\"text-align: right;\">\n",
       "      <th></th>\n",
       "      <th>Unnamed: 0</th>\n",
       "      <th>NUM</th>\n",
       "      <th>FACILITY</th>\n",
       "      <th>DATE</th>\n",
       "      <th>FINE</th>\n",
       "      <th>NARRATIVE</th>\n",
       "      <th>TRIGRAMS</th>\n",
       "    </tr>\n",
       "  </thead>\n",
       "  <tbody>\n",
       "    <tr>\n",
       "      <th>0</th>\n",
       "      <td>0</td>\n",
       "      <td>20008964</td>\n",
       "      <td>FREMONT HEALTHCARE CENTER</td>\n",
       "      <td>2012-02-01</td>\n",
       "      <td>750.0</td>\n",
       "      <td>F323 483.25(h) FREE OF ACCIDENT HAZARDS/SUPERV...</td>\n",
       "      <td>[hazard_supervision_device, device_prevent_acc...</td>\n",
       "    </tr>\n",
       "    <tr>\n",
       "      <th>1</th>\n",
       "      <td>1</td>\n",
       "      <td>20009068</td>\n",
       "      <td>WILLOW TREE NURSING CENTER</td>\n",
       "      <td>2012-03-02</td>\n",
       "      <td>750.0</td>\n",
       "      <td>Title 22 72520 (a) If a patient of a skilled n...</td>\n",
       "      <td>[skilled_nursing_facility, hospital_define_sec...</td>\n",
       "    </tr>\n",
       "    <tr>\n",
       "      <th>2</th>\n",
       "      <td>2</td>\n",
       "      <td>20009069</td>\n",
       "      <td>KINDRED NURSING AND REHABILITATION - YGNACIO V...</td>\n",
       "      <td>2012-03-02</td>\n",
       "      <td>750.0</td>\n",
       "      <td>483.12(b) (3) Permitting Resident to Return to...</td>\n",
       "      <td>[bed_hold_period, facility_immediately_availab...</td>\n",
       "    </tr>\n",
       "    <tr>\n",
       "      <th>3</th>\n",
       "      <td>3</td>\n",
       "      <td>20009078</td>\n",
       "      <td>BAY VIEW REHABILITATION HOSPITAL, LLC</td>\n",
       "      <td>2012-03-05</td>\n",
       "      <td>37500.0</td>\n",
       "      <td>483.25 PROVIDE CARE/SERVICES FOR HIGHEST WELL ...</td>\n",
       "      <td>[service_high_beingeach, facility_provide_nece...</td>\n",
       "    </tr>\n",
       "    <tr>\n",
       "      <th>4</th>\n",
       "      <td>4</td>\n",
       "      <td>20009082</td>\n",
       "      <td>LONE TREE CONVALESCENT HOSPITAL</td>\n",
       "      <td>2012-03-06</td>\n",
       "      <td>600.0</td>\n",
       "      <td>T22 DIV5 CH3 ART3-72311(a)(1)(A) Nursing Servi...</td>\n",
       "      <td>[nursing_service_shall, include_limit_followin...</td>\n",
       "    </tr>\n",
       "  </tbody>\n",
       "</table>\n",
       "</div>"
      ],
      "text/plain": [
       "   Unnamed: 0       NUM                                           FACILITY  \\\n",
       "0           0  20008964                          FREMONT HEALTHCARE CENTER   \n",
       "1           1  20009068                         WILLOW TREE NURSING CENTER   \n",
       "2           2  20009069  KINDRED NURSING AND REHABILITATION - YGNACIO V...   \n",
       "3           3  20009078              BAY VIEW REHABILITATION HOSPITAL, LLC   \n",
       "4           4  20009082                    LONE TREE CONVALESCENT HOSPITAL   \n",
       "\n",
       "         DATE     FINE                                          NARRATIVE  \\\n",
       "0  2012-02-01    750.0  F323 483.25(h) FREE OF ACCIDENT HAZARDS/SUPERV...   \n",
       "1  2012-03-02    750.0  Title 22 72520 (a) If a patient of a skilled n...   \n",
       "2  2012-03-02    750.0  483.12(b) (3) Permitting Resident to Return to...   \n",
       "3  2012-03-05  37500.0  483.25 PROVIDE CARE/SERVICES FOR HIGHEST WELL ...   \n",
       "4  2012-03-06    600.0  T22 DIV5 CH3 ART3-72311(a)(1)(A) Nursing Servi...   \n",
       "\n",
       "                                            TRIGRAMS  \n",
       "0  [hazard_supervision_device, device_prevent_acc...  \n",
       "1  [skilled_nursing_facility, hospital_define_sec...  \n",
       "2  [bed_hold_period, facility_immediately_availab...  \n",
       "3  [service_high_beingeach, facility_provide_nece...  \n",
       "4  [nursing_service_shall, include_limit_followin...  "
      ]
     },
     "execution_count": 17,
     "metadata": {},
     "output_type": "execute_result"
    }
   ],
   "source": [
    "data = pd.read_csv(\"../data/interim/trigrams3.csv\")\n",
    "data['TRIGRAMS'] = data['TRIGRAMS'].apply(literal_eval)\n",
    "data.head()"
   ]
  },
  {
   "cell_type": "code",
   "execution_count": 18,
   "metadata": {},
   "outputs": [
    {
     "data": {
      "text/plain": [
       "471     [punishment_involuntary_seclusion, physical_ab...\n",
       "1453    [abuse_involuntary_seclusion, physical_abuse_c...\n",
       "2379    [send_request_toÿchcqdata@cdph.ca.govÿto, obta...\n",
       "1601    [health_safety_code, long_term_health, facilit...\n",
       "1094    [unannounced_visit_facility, base_observation_...\n",
       "                              ...                        \n",
       "1852    [483.25(j_sufficient_fluid, sufficient_fluid_i...\n",
       "2220    [report_irregularity_attend, base_observation_...\n",
       "2523    [f322_483.25(g_2, service_restore_eating, serv...\n",
       "2105    [facility_provide_necessary, care_service_atta...\n",
       "133     [abuse_neglect_etc, policy_483.12_b, facility_...\n",
       "Name: TRIGRAMS, Length: 2306, dtype: object"
      ]
     },
     "execution_count": 18,
     "metadata": {},
     "output_type": "execute_result"
    }
   ],
   "source": [
    "# Generate a sample of 80% of the database (holding out 20% for validation)\n",
    "\n",
    "train = data.sample(frac=0.8, random_state=42)\n",
    "test = data.drop(train.index)\n",
    "train['TRIGRAMS']"
   ]
  },
  {
   "cell_type": "code",
   "execution_count": 19,
   "metadata": {},
   "outputs": [
    {
     "data": {
      "text/plain": [
       "1       [skilled_nursing_facility, hospital_define_sec...\n",
       "4       [nursing_service_shall, include_limit_followin...\n",
       "11      [72311_nursing_service, shall_include_limit, i...\n",
       "16      [483.12(a)(2_transfer_discharge, need_meet_fac...\n",
       "19      [need_meet_facility, ii_transfer_discharge, 's...\n",
       "                              ...                        \n",
       "2858    [property_483.12(b_facility, establish_policy_...\n",
       "2860    [t22_div_5, shall_include_limit, 3_notify_atte...\n",
       "2861    [facility_hospitalize_place, therapeutic_leave...\n",
       "2864    [facility_provide_necessary, care_service_atta...\n",
       "2875    [comfortable_safe_temperature, p.m._unannounce...\n",
       "Name: TRIGRAMS, Length: 577, dtype: object"
      ]
     },
     "execution_count": 19,
     "metadata": {},
     "output_type": "execute_result"
    }
   ],
   "source": [
    "test['TRIGRAMS']"
   ]
  },
  {
   "cell_type": "code",
   "execution_count": 20,
   "metadata": {},
   "outputs": [],
   "source": [
    "def remove_numbers(corpus):\n",
    "    regexp = re.compile(r'^[0-9]*$')\n",
    "    return [[word for word in line if not regexp.search(word)] for line in corpus]"
   ]
  },
  {
   "cell_type": "code",
   "execution_count": 21,
   "metadata": {},
   "outputs": [],
   "source": [
    "# Fill a dictionary with all of the words and phrases in the corpus, except for pure numbers like \"2016\", which\n",
    "# do not contain much valuable info about what topic a narrative belongs to. Filter out words that occur too often\n",
    "# or not often enough. Then convert the dictionary to vectors.\n",
    "\n",
    "corpus = train['TRIGRAMS'].tolist()\n",
    "corpus = remove_numbers(corpus)\n",
    "dct = Dictionary(corpus)\n",
    "dct.filter_extremes(no_below=2, no_above=0.15)\n",
    "corpus_nums = [dct.doc2bow(text) for text in corpus]"
   ]
  },
  {
   "cell_type": "code",
   "execution_count": 22,
   "metadata": {},
   "outputs": [],
   "source": [
    "# Train an LDA model, somewhat more carefully, using the hyperparameters that were close to optimal in the previous\n",
    "# notebook. Although a 3-topic model had slightly more coherence, that is less interesting than an 8-topic model,\n",
    "# and the coherence statistics were very similar.\n",
    "\n",
    "retrainModel = False\n",
    "\n",
    "if retrainModel:\n",
    "    lda_model = LdaModel(corpus_nums, num_topics=8, id2word=dct, passes=60, iterations=1200, \n",
    "                         alpha=0.9, eta=0.9, random_state=42)\n",
    "    lda_model.save(\"../models/ldatrain\")\n",
    "    dct.save_as_text(\"../models/ldatrain_dct\")\n",
    "\n",
    "lda_model = LdaModel.load(\"../models/ldatrain\")\n",
    "dct = Dictionary.load_from_text(\"../models/ldatrain_dct\")"
   ]
  },
  {
   "cell_type": "code",
   "execution_count": 23,
   "metadata": {
    "scrolled": true
   },
   "outputs": [
    {
     "name": "stdout",
     "output_type": "stream",
     "text": [
      "[('oxygen', 0.51), ('fluid', 0.51), ('weight', 0.37), ('food', 0.37), ('catheter', 0.34), ('restraint', 0.34), ('intake', 0.3), ('urinary', 0.29), ('respiratory', 0.27), ('drug', 0.26), ('eat', 0.26), ('ln', 0.25), ('gach', 0.24), ('dehydration', 0.24), ('diet', 0.23)]\n",
      "\n",
      "\n",
      "[('alarm', 0.39), ('elopement', 0.34), ('ln', 0.29), ('wander', 0.28), ('july', 0.27), ('smoking', 0.24), ('psychiatric', 0.21), ('mood', 0.19), ('hallway', 0.19), ('behavioral', 0.17), ('depression', 0.16), ('exit', 0.16), ('aggressive', 0.16), ('station', 0.16), ('monitoring', 0.15)]\n",
      "\n",
      "\n",
      "[('wound', 0.76), ('ulcer', 0.61), ('lift', 0.54), ('sore', 0.46), ('pressure_ulcer', 0.4), ('cm', 0.36), ('hip', 0.35), ('alarm', 0.29), ('pressure_sore', 0.29), ('shower', 0.28), ('stage', 0.28), ('september', 0.26), ('knee', 0.22), ('heel', 0.21), ('rating', 0.21)]\n",
      "\n",
      "\n",
      "[('snf', 1.12), ('transfer_discharge', 0.98), ('ssd', 0.76), ('rp', 0.38), ('adm', 0.37), ('bed_hold', 0.31), ('gach', 0.28), ('bom', 0.25), ('trust_fund', 0.23), ('social_service', 0.23), ('pay', 0.23), ('party', 0.23), ('appeal', 0.22), ('30_day', 0.21), ('medicaid', 0.21)]\n",
      "\n",
      "\n",
      "[('dcs', 1.01), ('disability', 0.35), ('sexual', 0.34), ('qidp', 0.24), ('witness', 0.24), ('bruise', 0.22), ('unknown', 0.2), ('developmental', 0.19), ('water', 0.17), ('ln', 0.17), ('right_free', 0.17), ('injury_unknown', 0.17), ('september', 0.17), ('subject', 0.16), ('dsp', 0.16)]\n",
      "\n",
      "\n",
      "[('account', 2.61), ('trust', 1.66), ('ad', 1.04), ('trust_account', 1.02), ('o', 1.0), ('money', 0.83), ('fund', 0.72), ('o_ad', 0.66), ('$', 0.6), ('sprinkler', 0.5), ('bank', 0.47), ('monie', 0.46), ('financial', 0.34), ('licensee', 0.34), ('business', 0.33)]\n",
      "\n",
      "\n",
      "[('tube', 0.64), ('sugar', 0.57), ('dl', 0.45), ('blood_sugar', 0.41), ('seizure', 0.36), ('insulin', 0.31), ('glucose', 0.28), ('mg_dl', 0.26), ('dcs', 0.25), ('mar', 0.23), ('october', 0.23), ('gastrostomy', 0.23), ('feeding', 0.22), ('gach', 0.22), ('pump', 0.2)]\n",
      "\n",
      "\n",
      "[('rash', 0.52), ('scabie', 0.4), ('unlicensed', 0.27), ('unlicensed_staff', 0.26), ('cdph', 0.24), ('february', 0.22), ('alleged_abuse', 0.22), ('elimite', 0.22), ('department_immediately', 0.2), ('suspect_abuse', 0.2), ('isolation', 0.2), ('infection_control', 0.19), ('cream', 0.19), ('public_health', 0.19), ('outbreak', 0.17)]\n",
      "\n",
      "\n"
     ]
    }
   ],
   "source": [
    "# Preview the most-frequently occuring words in each of the 8 topics, showing the percentage of each topic represented\n",
    "# by each word, e.g., \"oxygen, 0.51\" means oxygen is 0.51% of the words in the topic.\n",
    "\n",
    "for topic in range(8):\n",
    "    print([(a, round(b*100, 2)) for (a, b) in lda_model.show_topic(topic, topn=15)])\n",
    "    print(\"\\n\")"
   ]
  },
  {
   "cell_type": "code",
   "execution_count": 24,
   "metadata": {},
   "outputs": [
    {
     "name": "stdout",
     "output_type": "stream",
     "text": [
      "Wall time: 0 ns\n"
     ]
    }
   ],
   "source": [
    "%%time\n",
    "\n",
    "# Prepare a graphical summary of the topics based on principal component analysis (very time consuming)\n",
    "PrepVisual = False\n",
    "\n",
    "if PrepVisual:\n",
    "    LDAvis_prepared = pyLDAvis.gensim.prepare(lda_model, corpus_nums, dct)\n",
    "    pickle.dump( LDAvis_prepared, open( \"../models/visual.p\", \"wb\" ) )\n",
    "    pyLDAvis.save_html(LDAvis_prepared, '../models/lda.html')\n",
    "\n",
    "\n"
   ]
  },
  {
   "cell_type": "code",
   "execution_count": 25,
   "metadata": {},
   "outputs": [],
   "source": [
    "LDAvis_prepared = pickle.load( open( \"../models/visual.p\", \"rb\" ) )\n"
   ]
  },
  {
   "cell_type": "code",
   "execution_count": 26,
   "metadata": {
    "scrolled": true
   },
   "outputs": [
    {
     "name": "stdout",
     "output_type": "stream",
     "text": [
      "\n",
      "Note: if you're in the IPython notebook, pyLDAvis.show() is not the best command\n",
      "      to use. Consider using pyLDAvis.display(), or pyLDAvis.enable_notebook().\n",
      "      See more information at http://pyLDAvis.github.io/quickstart.html .\n",
      "\n",
      "You must interrupt the kernel to end this command\n",
      "\n",
      "Serving to http://127.0.0.1:8889/    [Ctrl-C to exit]\n"
     ]
    },
    {
     "name": "stderr",
     "output_type": "stream",
     "text": [
      "127.0.0.1 - - [01/Mar/2020 19:52:48] \"GET / HTTP/1.1\" 200 -\n",
      "127.0.0.1 - - [01/Mar/2020 19:52:49] \"GET /LDAvis.css HTTP/1.1\" 200 -\n",
      "127.0.0.1 - - [01/Mar/2020 19:52:49] \"GET /d3.js HTTP/1.1\" 200 -\n",
      "127.0.0.1 - - [01/Mar/2020 19:52:49] \"GET /LDAvis.js HTTP/1.1\" 200 -\n"
     ]
    },
    {
     "name": "stdout",
     "output_type": "stream",
     "text": [
      "\n",
      "stopping Server...\n"
     ]
    }
   ],
   "source": [
    "# Launch an interactive visualization of the topics in a new window (using this window distorts the width of all cells)\n",
    "pyLDAvis.show(LDAvis_prepared)"
   ]
  }
 ],
 "metadata": {
  "kernelspec": {
   "display_name": "Python 3",
   "language": "python",
   "name": "python3"
  },
  "language_info": {
   "codemirror_mode": {
    "name": "ipython",
    "version": 3
   },
   "file_extension": ".py",
   "mimetype": "text/x-python",
   "name": "python",
   "nbconvert_exporter": "python",
   "pygments_lexer": "ipython3",
   "version": "3.6.9"
  }
 },
 "nbformat": 4,
 "nbformat_minor": 2
}
