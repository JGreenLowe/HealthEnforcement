{
 "cells": [
  {
   "cell_type": "code",
   "execution_count": 1,
   "metadata": {},
   "outputs": [],
   "source": [
    "import pandas as pd\n",
    "import numpy as np\n",
    "import spacy\n",
    "\n",
    "from gensim.models import Phrases, LdaModel, CoherenceModel, Word2Vec\n",
    "from gensim.models.word2vec import LineSentence\n",
    "from gensim.corpora import Dictionary, MmCorpus\n",
    "\n",
    "from ast import literal_eval"
   ]
  },
  {
   "cell_type": "code",
   "execution_count": 2,
   "metadata": {},
   "outputs": [
    {
     "data": {
      "text/html": [
       "<div>\n",
       "<style scoped>\n",
       "    .dataframe tbody tr th:only-of-type {\n",
       "        vertical-align: middle;\n",
       "    }\n",
       "\n",
       "    .dataframe tbody tr th {\n",
       "        vertical-align: top;\n",
       "    }\n",
       "\n",
       "    .dataframe thead th {\n",
       "        text-align: right;\n",
       "    }\n",
       "</style>\n",
       "<table border=\"1\" class=\"dataframe\">\n",
       "  <thead>\n",
       "    <tr style=\"text-align: right;\">\n",
       "      <th></th>\n",
       "      <th>Unnamed: 0</th>\n",
       "      <th>NUM</th>\n",
       "      <th>FACILITY</th>\n",
       "      <th>DATE</th>\n",
       "      <th>FINE</th>\n",
       "      <th>NARRATIVE</th>\n",
       "      <th>TRIGRAMS</th>\n",
       "    </tr>\n",
       "  </thead>\n",
       "  <tbody>\n",
       "    <tr>\n",
       "      <th>0</th>\n",
       "      <td>0</td>\n",
       "      <td>20008964</td>\n",
       "      <td>FREMONT HEALTHCARE CENTER</td>\n",
       "      <td>2012-02-01</td>\n",
       "      <td>750.0</td>\n",
       "      <td>F323 483.25(h) FREE OF ACCIDENT HAZARDS/SUPERV...</td>\n",
       "      <td>[hazard_supervision_device, device_prevent_acc...</td>\n",
       "    </tr>\n",
       "    <tr>\n",
       "      <th>1</th>\n",
       "      <td>1</td>\n",
       "      <td>20009068</td>\n",
       "      <td>WILLOW TREE NURSING CENTER</td>\n",
       "      <td>2012-03-02</td>\n",
       "      <td>750.0</td>\n",
       "      <td>Title 22 72520 (a) If a patient of a skilled n...</td>\n",
       "      <td>[skilled_nursing_facility, hospital_define_sec...</td>\n",
       "    </tr>\n",
       "    <tr>\n",
       "      <th>2</th>\n",
       "      <td>2</td>\n",
       "      <td>20009069</td>\n",
       "      <td>KINDRED NURSING AND REHABILITATION - YGNACIO V...</td>\n",
       "      <td>2012-03-02</td>\n",
       "      <td>750.0</td>\n",
       "      <td>483.12(b) (3) Permitting Resident to Return to...</td>\n",
       "      <td>[bed_hold_period, facility_immediately_availab...</td>\n",
       "    </tr>\n",
       "    <tr>\n",
       "      <th>3</th>\n",
       "      <td>3</td>\n",
       "      <td>20009078</td>\n",
       "      <td>BAY VIEW REHABILITATION HOSPITAL, LLC</td>\n",
       "      <td>2012-03-05</td>\n",
       "      <td>37500.0</td>\n",
       "      <td>483.25 PROVIDE CARE/SERVICES FOR HIGHEST WELL ...</td>\n",
       "      <td>[service_high_beingeach, facility_provide_nece...</td>\n",
       "    </tr>\n",
       "    <tr>\n",
       "      <th>4</th>\n",
       "      <td>4</td>\n",
       "      <td>20009082</td>\n",
       "      <td>LONE TREE CONVALESCENT HOSPITAL</td>\n",
       "      <td>2012-03-06</td>\n",
       "      <td>600.0</td>\n",
       "      <td>T22 DIV5 CH3 ART3-72311(a)(1)(A) Nursing Servi...</td>\n",
       "      <td>[nursing_service_shall, include_limit_followin...</td>\n",
       "    </tr>\n",
       "  </tbody>\n",
       "</table>\n",
       "</div>"
      ],
      "text/plain": [
       "   Unnamed: 0       NUM                                           FACILITY  \\\n",
       "0           0  20008964                          FREMONT HEALTHCARE CENTER   \n",
       "1           1  20009068                         WILLOW TREE NURSING CENTER   \n",
       "2           2  20009069  KINDRED NURSING AND REHABILITATION - YGNACIO V...   \n",
       "3           3  20009078              BAY VIEW REHABILITATION HOSPITAL, LLC   \n",
       "4           4  20009082                    LONE TREE CONVALESCENT HOSPITAL   \n",
       "\n",
       "         DATE     FINE                                          NARRATIVE  \\\n",
       "0  2012-02-01    750.0  F323 483.25(h) FREE OF ACCIDENT HAZARDS/SUPERV...   \n",
       "1  2012-03-02    750.0  Title 22 72520 (a) If a patient of a skilled n...   \n",
       "2  2012-03-02    750.0  483.12(b) (3) Permitting Resident to Return to...   \n",
       "3  2012-03-05  37500.0  483.25 PROVIDE CARE/SERVICES FOR HIGHEST WELL ...   \n",
       "4  2012-03-06    600.0  T22 DIV5 CH3 ART3-72311(a)(1)(A) Nursing Servi...   \n",
       "\n",
       "                                            TRIGRAMS  \n",
       "0  [hazard_supervision_device, device_prevent_acc...  \n",
       "1  [skilled_nursing_facility, hospital_define_sec...  \n",
       "2  [bed_hold_period, facility_immediately_availab...  \n",
       "3  [service_high_beingeach, facility_provide_nece...  \n",
       "4  [nursing_service_shall, include_limit_followin...  "
      ]
     },
     "execution_count": 2,
     "metadata": {},
     "output_type": "execute_result"
    }
   ],
   "source": [
    "data = pd.read_csv(\"../data/interim/trigrams3.csv\")\n",
    "data['TRIGRAMS'] = data['TRIGRAMS'].apply(literal_eval)\n",
    "data.head()"
   ]
  },
  {
   "cell_type": "code",
   "execution_count": 3,
   "metadata": {},
   "outputs": [
    {
     "data": {
      "text/plain": [
       "471     [punishment_involuntary_seclusion, physical_ab...\n",
       "1453    [abuse_involuntary_seclusion, physical_abuse_c...\n",
       "2379    [send_request_toÿchcqdata@cdph.ca.govÿto, obta...\n",
       "1601    [health_safety_code, long_term_health, facilit...\n",
       "1094    [unannounced_visit_facility, base_observation_...\n",
       "                              ...                        \n",
       "840     [nursing_service_shall, include_limited_follow...\n",
       "1071    [individual_united_state, state_california_qua...\n",
       "1480    [shall_report_incident, facility_department_im...\n",
       "1509    [f309_483.25_provide, facility_provide_necessa...\n",
       "1940    [72315_nursing_service, shall_treat_individual...\n",
       "Name: TRIGRAMS, Length: 700, dtype: object"
      ]
     },
     "execution_count": 3,
     "metadata": {},
     "output_type": "execute_result"
    }
   ],
   "source": [
    "# Generate a sample of 25% of the database\n",
    "\n",
    "sample = data.sample(n=700, random_state=42)\n",
    "#sample = [trigram_list for trigram_list in sample['TRIGRAMS']]\n",
    "sample['TRIGRAMS']"
   ]
  },
  {
   "cell_type": "code",
   "execution_count": 4,
   "metadata": {},
   "outputs": [
    {
     "name": "stdout",
     "output_type": "stream",
     "text": [
      "<class 'list'> <class 'list'> <class 'str'>\n"
     ]
    }
   ],
   "source": [
    "slist = sample['TRIGRAMS'].tolist()\n",
    "print(type(slist), type(slist[0]), type(slist[0][0]))"
   ]
  },
  {
   "cell_type": "code",
   "execution_count": 5,
   "metadata": {},
   "outputs": [
    {
     "name": "stdout",
     "output_type": "stream",
     "text": [
      "Wall time: 768 ms\n"
     ]
    }
   ],
   "source": [
    "%%time\n",
    "# Create a dictionary with all of the words in the sample corpus\n",
    "corpus = slist\n",
    "dct = Dictionary(corpus)\n",
    "dct.filter_extremes(no_below=2, no_above=0.15)"
   ]
  },
  {
   "cell_type": "code",
   "execution_count": 6,
   "metadata": {},
   "outputs": [
    {
     "name": "stdout",
     "output_type": "stream",
     "text": [
      "Wall time: 285 ms\n"
     ]
    }
   ],
   "source": [
    "%%time\n",
    "# Convert the dictionary to numeric wordIDs\n",
    "corpus_nums = [dct.doc2bow(text) for text in corpus]"
   ]
  },
  {
   "cell_type": "code",
   "execution_count": 7,
   "metadata": {},
   "outputs": [
    {
     "name": "stdout",
     "output_type": "stream",
     "text": [
      "Wall time: 1min 3s\n"
     ]
    }
   ],
   "source": [
    "%%time\n",
    "# Build a model using the numeric wordIDs, letting the function know how to convert these id's back into words\n",
    "lda_model = LdaModel(corpus_nums, num_topics=10, id2word=dct, passes=30, iterations=600, random_state=42)"
   ]
  },
  {
   "cell_type": "code",
   "execution_count": 8,
   "metadata": {},
   "outputs": [
    {
     "name": "stdout",
     "output_type": "stream",
     "text": [
      "[('sexual', 0.0054619634), ('agency', 0.004882252), ('ln', 0.004799997), ('unknown', 0.004142089), ('drug', 0.003913924), ('ombudsman', 0.0037669768), ('2010', 0.003672329), ('injury_unknown', 0.0035132563), ('cdph', 0.0034108385), ('2017', 0.0033757444), ('allege', 0.003329853), ('suspect_abuse', 0.0032456613), ('abuse_neglect', 0.0031641761), ('july', 0.0027832366), ('alleged_abuse', 0.0025729362)]\n",
      "\n",
      "\n",
      "[('rash', 0.008130928), ('scabie', 0.0058620395), ('rating', 0.0048802714), ('2013', 0.0044930633), ('post', 0.004411541), ('medicare', 0.0026742974), ('star', 0.0026174255), ('assault', 0.0025274742), ('medicaid', 0.0025196967), ('peer', 0.0024492075), ('cream', 0.0023718833), ('overall', 0.0023132127), ('shall_post', 0.002311891), ('bite', 0.0022812288), ('center', 0.0022359977)]\n",
      "\n",
      "\n",
      "[('lift', 0.008191604), ('hip', 0.0075363694), ('alarm', 0.005965842), ('2017', 0.0057267915), ('ln', 0.0046718884), ('fall_risk', 0.004078161), ('rail', 0.0038923551), ('food', 0.003812933), ('mechanical', 0.003720323), ('diet', 0.003367307), ('x_ray', 0.003309059), ('dcs', 0.0031058497), ('idt', 0.0029512679), ('high_risk', 0.0028262206), ('drug', 0.0027326078)]\n",
      "\n",
      "\n",
      "[('account', 0.05151958), ('trust', 0.034757923), ('trust_account', 0.020885903), ('ad', 0.019840416), ('o', 0.019146964), ('fund', 0.017028352), ('money', 0.016275471), ('$', 0.013614571), ('o_ad', 0.013146724), ('monie', 0.01001081), ('bank', 0.008943285), ('financial', 0.00747754), ('licensee', 0.0068104025), ('business', 0.006708764), ('valuable', 0.0067081144)]\n",
      "\n",
      "\n",
      "[('oxygen', 0.012857863), ('cpr', 0.008627288), ('ln', 0.007636475), ('breathing', 0.007592839), ('respiratory', 0.006994617), ('tube', 0.0061085788), ('pulse', 0.0052202013), ('paramedic', 0.004787182), ('breathe', 0.0045763273), ('unresponsive', 0.0044078147), ('vital', 0.004358294), ('breath', 0.0043577384), ('chest', 0.0042874394), ('911', 0.004282567), ('rate', 0.0042768694)]\n",
      "\n",
      "\n",
      "[('2014', 0.007830516), ('sling', 0.004818483), ('transfer_discharge', 0.004023806), ('february', 0.00357432), ('ssd', 0.0034925109), ('25', 0.0033391255), ('2013', 0.003215711), ('2011', 0.0028694426), ('july', 0.002866816), ('29', 0.0028044216), ('miss', 0.002670212), ('lift', 0.0026119582), ('drug', 0.0024273598), ('18', 0.002348211), ('pt', 0.0022773151)]\n",
      "\n",
      "\n",
      "[('dcs', 0.009875159), ('snf', 0.0065306528), ('sugar', 0.004730917), ('gach', 0.004588766), ('elopement', 0.00392228), ('blood_sugar', 0.0034851783), ('wander', 0.0032820392), ('ssd', 0.0031709794), ('insulin', 0.0028403956), ('finger', 0.002764277), ('bed_hold', 0.0027335114), ('2010', 0.0027113475), ('2014', 0.0026243099), ('28', 0.0022029965), ('2017', 0.0021507877)]\n",
      "\n",
      "\n",
      "[('smoking', 0.009240222), ('2010', 0.0075408956), ('degree', 0.006880598), ('weight', 0.0061057657), ('temperature', 0.005546705), ('water', 0.0052906247), ('2012', 0.005177592), ('adm', 0.0050068833), ('burn', 0.004895462), ('hot', 0.0046011764), ('2011', 0.0044974033), ('november', 0.0042270743), ('2013', 0.0042236587), ('july', 0.0040136417), ('lb', 0.0035750999)]\n",
      "\n",
      "\n",
      "[('2016', 0.008090703), ('ln', 0.0061767884), ('fluid', 0.005006425), ('belt', 0.004169705), ('coumadin', 0.0031500214), ('intake', 0.0031454528), ('seat', 0.0028735471), ('1:1', 0.0027499343), ('bruise', 0.0027189127), ('urinary', 0.002627063), ('ankle', 0.0026057311), ('escort', 0.0025358875), ('weight', 0.0025227934), ('test', 0.0025079858), ('x_ray', 0.0024526978)]\n",
      "\n",
      "\n",
      "[('wound', 0.02278252), ('ulcer', 0.015599042), ('sore', 0.012931126), ('pressure_ulcer', 0.010203419), ('cm', 0.009116549), ('stage', 0.008632927), ('pressure_sore', 0.008615587), ('heel', 0.0070222626), ('buttock', 0.004822485), ('fluid', 0.00453193), ('restraint', 0.0037758432), ('2012', 0.0031982001), ('bowel', 0.003051988), ('coccyx', 0.0027220151), ('tube', 0.0026108501)]\n",
      "\n",
      "\n"
     ]
    }
   ],
   "source": [
    "# Print the most commonly occurring words in each topic\n",
    "\n",
    "for topic in range(10):\n",
    "    print(lda_model.show_topic(topic, topn=15))\n",
    "    print(\"\\n\")\n"
   ]
  },
  {
   "cell_type": "code",
   "execution_count": 9,
   "metadata": {},
   "outputs": [],
   "source": [
    "# Define an informal grid of hyperparameters to test\n",
    "\n",
    "topicnums = [3, 5, 8, 10, 20]\n",
    "alphas = [0.01, 0.1, 0.3, 0.9]\n",
    "etas = [0.01, 0.1, 0.3, 0.9]"
   ]
  },
  {
   "cell_type": "code",
   "execution_count": 10,
   "metadata": {},
   "outputs": [],
   "source": [
    "# Evaluate each set of hyperparameters based on its c_v coherence score; this is time-consuming and has been set to 'off'\n",
    "# by default.\n",
    "\n",
    "hyperTest = False\n",
    "\n",
    "if hyperTest:\n",
    "    results = {}\n",
    "    for t in topicnums:\n",
    "        for a in alphas:\n",
    "            for e in etas:\n",
    "                lda_model = LdaModel(corpus_nums, id2word=dct, passes=30, iterations=600, random_state=42,\n",
    "                                     num_topics=t, alpha=a, eta=e)\n",
    "                coherence_model_lda = CoherenceModel(model=lda_model, texts=corpus, dictionary=dct, coherence='c_v')\n",
    "                results[(t, a, e)] = coherence_model_lda.get_coherence()\n",
    "    import csv\n",
    "    w = csv.writer(open(\"output.csv\", \"w\"))\n",
    "    for key, val in results.items():\n",
    "        w.writerow([key, val])"
   ]
  },
  {
   "cell_type": "code",
   "execution_count": 11,
   "metadata": {},
   "outputs": [
    {
     "data": {
      "text/html": [
       "<div>\n",
       "<style scoped>\n",
       "    .dataframe tbody tr th:only-of-type {\n",
       "        vertical-align: middle;\n",
       "    }\n",
       "\n",
       "    .dataframe tbody tr th {\n",
       "        vertical-align: top;\n",
       "    }\n",
       "\n",
       "    .dataframe thead th {\n",
       "        text-align: right;\n",
       "    }\n",
       "</style>\n",
       "<table border=\"1\" class=\"dataframe\">\n",
       "  <thead>\n",
       "    <tr style=\"text-align: right;\">\n",
       "      <th></th>\n",
       "      <th>Topics, Alpha, Eta</th>\n",
       "      <th>Coherence Score</th>\n",
       "    </tr>\n",
       "  </thead>\n",
       "  <tbody>\n",
       "    <tr>\n",
       "      <th>10</th>\n",
       "      <td>(3, 0.3, 0.3)</td>\n",
       "      <td>0.485832</td>\n",
       "    </tr>\n",
       "    <tr>\n",
       "      <th>13</th>\n",
       "      <td>(3, 0.9, 0.1)</td>\n",
       "      <td>0.481271</td>\n",
       "    </tr>\n",
       "    <tr>\n",
       "      <th>14</th>\n",
       "      <td>(3, 0.9, 0.3)</td>\n",
       "      <td>0.479637</td>\n",
       "    </tr>\n",
       "    <tr>\n",
       "      <th>0</th>\n",
       "      <td>(3, 0.01, 0.01)</td>\n",
       "      <td>0.479008</td>\n",
       "    </tr>\n",
       "    <tr>\n",
       "      <th>5</th>\n",
       "      <td>(3, 0.1, 0.1)</td>\n",
       "      <td>0.479008</td>\n",
       "    </tr>\n",
       "    <tr>\n",
       "      <th>1</th>\n",
       "      <td>(3, 0.01, 0.1)</td>\n",
       "      <td>0.479008</td>\n",
       "    </tr>\n",
       "    <tr>\n",
       "      <th>4</th>\n",
       "      <td>(3, 0.1, 0.01)</td>\n",
       "      <td>0.479008</td>\n",
       "    </tr>\n",
       "    <tr>\n",
       "      <th>15</th>\n",
       "      <td>(3, 0.9, 0.9)</td>\n",
       "      <td>0.478763</td>\n",
       "    </tr>\n",
       "    <tr>\n",
       "      <th>7</th>\n",
       "      <td>(3, 0.1, 0.9)</td>\n",
       "      <td>0.478763</td>\n",
       "    </tr>\n",
       "    <tr>\n",
       "      <th>11</th>\n",
       "      <td>(3, 0.3, 0.9)</td>\n",
       "      <td>0.478763</td>\n",
       "    </tr>\n",
       "    <tr>\n",
       "      <th>3</th>\n",
       "      <td>(3, 0.01, 0.9)</td>\n",
       "      <td>0.478763</td>\n",
       "    </tr>\n",
       "    <tr>\n",
       "      <th>8</th>\n",
       "      <td>(3, 0.3, 0.01)</td>\n",
       "      <td>0.477512</td>\n",
       "    </tr>\n",
       "    <tr>\n",
       "      <th>12</th>\n",
       "      <td>(3, 0.9, 0.01)</td>\n",
       "      <td>0.477512</td>\n",
       "    </tr>\n",
       "    <tr>\n",
       "      <th>9</th>\n",
       "      <td>(3, 0.3, 0.1)</td>\n",
       "      <td>0.477512</td>\n",
       "    </tr>\n",
       "    <tr>\n",
       "      <th>6</th>\n",
       "      <td>(3, 0.1, 0.3)</td>\n",
       "      <td>0.473188</td>\n",
       "    </tr>\n",
       "    <tr>\n",
       "      <th>2</th>\n",
       "      <td>(3, 0.01, 0.3)</td>\n",
       "      <td>0.473188</td>\n",
       "    </tr>\n",
       "    <tr>\n",
       "      <th>47</th>\n",
       "      <td>(8, 0.9, 0.9)</td>\n",
       "      <td>0.471167</td>\n",
       "    </tr>\n",
       "    <tr>\n",
       "      <th>35</th>\n",
       "      <td>(8, 0.01, 0.9)</td>\n",
       "      <td>0.466499</td>\n",
       "    </tr>\n",
       "    <tr>\n",
       "      <th>75</th>\n",
       "      <td>(20, 0.3, 0.9)</td>\n",
       "      <td>0.464438</td>\n",
       "    </tr>\n",
       "    <tr>\n",
       "      <th>79</th>\n",
       "      <td>(20, 0.9, 0.9)</td>\n",
       "      <td>0.461125</td>\n",
       "    </tr>\n",
       "  </tbody>\n",
       "</table>\n",
       "</div>"
      ],
      "text/plain": [
       "   Topics, Alpha, Eta  Coherence Score\n",
       "10      (3, 0.3, 0.3)         0.485832\n",
       "13      (3, 0.9, 0.1)         0.481271\n",
       "14      (3, 0.9, 0.3)         0.479637\n",
       "0     (3, 0.01, 0.01)         0.479008\n",
       "5       (3, 0.1, 0.1)         0.479008\n",
       "1      (3, 0.01, 0.1)         0.479008\n",
       "4      (3, 0.1, 0.01)         0.479008\n",
       "15      (3, 0.9, 0.9)         0.478763\n",
       "7       (3, 0.1, 0.9)         0.478763\n",
       "11      (3, 0.3, 0.9)         0.478763\n",
       "3      (3, 0.01, 0.9)         0.478763\n",
       "8      (3, 0.3, 0.01)         0.477512\n",
       "12     (3, 0.9, 0.01)         0.477512\n",
       "9       (3, 0.3, 0.1)         0.477512\n",
       "6       (3, 0.1, 0.3)         0.473188\n",
       "2      (3, 0.01, 0.3)         0.473188\n",
       "47      (8, 0.9, 0.9)         0.471167\n",
       "35     (8, 0.01, 0.9)         0.466499\n",
       "75     (20, 0.3, 0.9)         0.464438\n",
       "79     (20, 0.9, 0.9)         0.461125"
      ]
     },
     "execution_count": 11,
     "metadata": {},
     "output_type": "execute_result"
    }
   ],
   "source": [
    "printout = pd.read_csv(\"output.csv\", names=['Topics, Alpha, Eta', 'Coherence Score'])\n",
    "printout.sort_values('Coherence Score', ascending=False).head(20)"
   ]
  }
 ],
 "metadata": {
  "kernelspec": {
   "display_name": "Python 3",
   "language": "python",
   "name": "python3"
  },
  "language_info": {
   "codemirror_mode": {
    "name": "ipython",
    "version": 3
   },
   "file_extension": ".py",
   "mimetype": "text/x-python",
   "name": "python",
   "nbconvert_exporter": "python",
   "pygments_lexer": "ipython3",
   "version": "3.6.9"
  }
 },
 "nbformat": 4,
 "nbformat_minor": 2
}
