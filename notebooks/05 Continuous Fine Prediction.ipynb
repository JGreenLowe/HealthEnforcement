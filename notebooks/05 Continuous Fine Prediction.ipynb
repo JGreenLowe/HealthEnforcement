{
 "cells": [
  {
   "cell_type": "code",
   "execution_count": 1,
   "metadata": {},
   "outputs": [
    {
     "data": {
      "text/html": [
       "<div>\n",
       "<style scoped>\n",
       "    .dataframe tbody tr th:only-of-type {\n",
       "        vertical-align: middle;\n",
       "    }\n",
       "\n",
       "    .dataframe tbody tr th {\n",
       "        vertical-align: top;\n",
       "    }\n",
       "\n",
       "    .dataframe thead th {\n",
       "        text-align: right;\n",
       "    }\n",
       "</style>\n",
       "<table border=\"1\" class=\"dataframe\">\n",
       "  <thead>\n",
       "    <tr style=\"text-align: right;\">\n",
       "      <th></th>\n",
       "      <th>NUM</th>\n",
       "      <th>FACILITY</th>\n",
       "      <th>DATE</th>\n",
       "      <th>FINE</th>\n",
       "      <th>NARRATIVE</th>\n",
       "      <th>TRIGRAMS</th>\n",
       "    </tr>\n",
       "  </thead>\n",
       "  <tbody>\n",
       "    <tr>\n",
       "      <th>0</th>\n",
       "      <td>20008964</td>\n",
       "      <td>FREMONT HEALTHCARE CENTER</td>\n",
       "      <td>2012-02-01</td>\n",
       "      <td>750.0</td>\n",
       "      <td>F323 483.25(h) FREE OF ACCIDENT HAZARDS/SUPERV...</td>\n",
       "      <td>[hazard_supervision_device, device_prevent_acc...</td>\n",
       "    </tr>\n",
       "    <tr>\n",
       "      <th>1</th>\n",
       "      <td>20009068</td>\n",
       "      <td>WILLOW TREE NURSING CENTER</td>\n",
       "      <td>2012-03-02</td>\n",
       "      <td>750.0</td>\n",
       "      <td>Title 22 72520 (a) If a patient of a skilled n...</td>\n",
       "      <td>[skilled_nursing_facility, hospital_define_sec...</td>\n",
       "    </tr>\n",
       "    <tr>\n",
       "      <th>2</th>\n",
       "      <td>20009069</td>\n",
       "      <td>KINDRED NURSING AND REHABILITATION - YGNACIO V...</td>\n",
       "      <td>2012-03-02</td>\n",
       "      <td>750.0</td>\n",
       "      <td>483.12(b) (3) Permitting Resident to Return to...</td>\n",
       "      <td>[bed_hold_period, facility_immediately_availab...</td>\n",
       "    </tr>\n",
       "    <tr>\n",
       "      <th>3</th>\n",
       "      <td>20009078</td>\n",
       "      <td>BAY VIEW REHABILITATION HOSPITAL, LLC</td>\n",
       "      <td>2012-03-05</td>\n",
       "      <td>37500.0</td>\n",
       "      <td>483.25 PROVIDE CARE/SERVICES FOR HIGHEST WELL ...</td>\n",
       "      <td>[service_high_beingeach, facility_provide_nece...</td>\n",
       "    </tr>\n",
       "    <tr>\n",
       "      <th>4</th>\n",
       "      <td>20009082</td>\n",
       "      <td>LONE TREE CONVALESCENT HOSPITAL</td>\n",
       "      <td>2012-03-06</td>\n",
       "      <td>600.0</td>\n",
       "      <td>T22 DIV5 CH3 ART3-72311(a)(1)(A) Nursing Servi...</td>\n",
       "      <td>[nursing_service_shall, include_limit_followin...</td>\n",
       "    </tr>\n",
       "  </tbody>\n",
       "</table>\n",
       "</div>"
      ],
      "text/plain": [
       "        NUM                                           FACILITY        DATE  \\\n",
       "0  20008964                          FREMONT HEALTHCARE CENTER  2012-02-01   \n",
       "1  20009068                         WILLOW TREE NURSING CENTER  2012-03-02   \n",
       "2  20009069  KINDRED NURSING AND REHABILITATION - YGNACIO V...  2012-03-02   \n",
       "3  20009078              BAY VIEW REHABILITATION HOSPITAL, LLC  2012-03-05   \n",
       "4  20009082                    LONE TREE CONVALESCENT HOSPITAL  2012-03-06   \n",
       "\n",
       "      FINE                                          NARRATIVE  \\\n",
       "0    750.0  F323 483.25(h) FREE OF ACCIDENT HAZARDS/SUPERV...   \n",
       "1    750.0  Title 22 72520 (a) If a patient of a skilled n...   \n",
       "2    750.0  483.12(b) (3) Permitting Resident to Return to...   \n",
       "3  37500.0  483.25 PROVIDE CARE/SERVICES FOR HIGHEST WELL ...   \n",
       "4    600.0  T22 DIV5 CH3 ART3-72311(a)(1)(A) Nursing Servi...   \n",
       "\n",
       "                                            TRIGRAMS  \n",
       "0  [hazard_supervision_device, device_prevent_acc...  \n",
       "1  [skilled_nursing_facility, hospital_define_sec...  \n",
       "2  [bed_hold_period, facility_immediately_availab...  \n",
       "3  [service_high_beingeach, facility_provide_nece...  \n",
       "4  [nursing_service_shall, include_limit_followin...  "
      ]
     },
     "execution_count": 1,
     "metadata": {},
     "output_type": "execute_result"
    }
   ],
   "source": [
    "import pandas as pd\n",
    "import numpy as np\n",
    "import matplotlib.pyplot as plt\n",
    "from pylab import rcParams\n",
    "rcParams['figure.figsize'] = 15, 10\n",
    "\n",
    "from ast import literal_eval\n",
    "from sklearn.feature_extraction.text import CountVectorizer\n",
    "\n",
    "data = pd.read_csv(\"../data/interim/trigrams3.csv\")\n",
    "data = data.drop(['Unnamed: 0'], axis=1)\n",
    "data['TRIGRAMS'] = data['TRIGRAMS'].apply(literal_eval)\n",
    "data.head()"
   ]
  },
  {
   "cell_type": "code",
   "execution_count": 2,
   "metadata": {},
   "outputs": [],
   "source": [
    "from sklearn.model_selection import train_test_split\n",
    "from sklearn.naive_bayes import MultinomialNB\n",
    "from sklearn import metrics\n",
    "from sklearn.ensemble import RandomForestRegressor, GradientBoostingRegressor"
   ]
  },
  {
   "cell_type": "code",
   "execution_count": 3,
   "metadata": {},
   "outputs": [
    {
     "data": {
      "text/plain": [
       "('hazard_supervision_device device_prevent_accident facility_violate_regulation receive_adequate_super',\n",
       " 'skilled_nursing_facility hospital_define_section skilled_nursing_facility patient_bedhold_seven faci',\n",
       " 'bed_hold_period facility_immediately_availability resident-_require_service facility_ii_eligible fac')"
      ]
     },
     "execution_count": 3,
     "metadata": {},
     "output_type": "execute_result"
    }
   ],
   "source": [
    "# Build a corpus of strings out of the trigram column in the main database\n",
    "\n",
    "corpus = [' '.join(data.loc[row, 'TRIGRAMS']) for row in range(len(data))] \n",
    "corpus[0][0:100], corpus[1][0:100], corpus[2][0:100]"
   ]
  },
  {
   "cell_type": "code",
   "execution_count": 4,
   "metadata": {},
   "outputs": [],
   "source": [
    "# Define a function that will convert the corpus into a vectorized bag of words, then apply it.\n",
    "# The function also generates a continous outcome variable that is the amount of the fine.\n",
    "\n",
    "def make_xy(data, vectorizer=None):\n",
    "    #Your code here    \n",
    "    if vectorizer is None:\n",
    "        vectorizer = CountVectorizer()\n",
    "    X = vectorizer.fit_transform(corpus)\n",
    "    X = X.tocsc()  # some versions of sklearn return COO format\n",
    "    y = data.FINE\n",
    "    return X, y\n",
    "X, y = make_xy(data)"
   ]
  },
  {
   "cell_type": "markdown",
   "metadata": {},
   "source": [
    "<h3 style=\"color:blue\">Multinomial Naive Bayes predicting the fine continuously</h3>"
   ]
  },
  {
   "cell_type": "code",
   "execution_count": 5,
   "metadata": {},
   "outputs": [
    {
     "name": "stdout",
     "output_type": "stream",
     "text": [
      "['training score:', 0.6139742319127849, 'test score:', 0.4508670520231214]\n"
     ]
    }
   ],
   "source": [
    "X_train, X_test, y_train, y_test = train_test_split(X, y, test_size = 0.3)\n",
    "foo = MultinomialNB()\n",
    "foo.fit(X_train, y_train)\n",
    "pred1_nb = foo.predict(X_train)\n",
    "pred2_nb = foo.predict(X_test)\n",
    "score1_nb = metrics.accuracy_score(y_train, pred1_nb)\n",
    "score2_nb = metrics.accuracy_score(y_test, pred2_nb)\n",
    "print([\"training score:\", score1_nb, \"test score:\", score2_nb])"
   ]
  },
  {
   "cell_type": "markdown",
   "metadata": {},
   "source": [
    "<h3 style=\"color:red\">Random Forest Generator predicting the fine continuously</h3>"
   ]
  },
  {
   "cell_type": "code",
   "execution_count": 6,
   "metadata": {},
   "outputs": [
    {
     "name": "stderr",
     "output_type": "stream",
     "text": [
      "C:\\Users\\Jason GL\\Anaconda3JGL\\envs\\biosphere\\lib\\site-packages\\sklearn\\ensemble\\forest.py:246: FutureWarning: The default value of n_estimators will change from 10 in version 0.20 to 100 in 0.22.\n",
      "  \"10 in version 0.20 to 100 in 0.22.\", FutureWarning)\n"
     ]
    },
    {
     "name": "stdout",
     "output_type": "stream",
     "text": [
      "['training score:', 0.8020783449332802, 'test score:', 0.5316033666552011]\n"
     ]
    }
   ],
   "source": [
    "X_train_rf, X_test_rf, y_train_rf, y_test_rf = train_test_split(X, y, test_size = 0.3)\n",
    "\n",
    "foo = RandomForestRegressor(max_depth = 4, random_state=48)\n",
    "foo.fit(X_train_rf, y_train_rf)\n",
    "pred1_rf = foo.predict(X_train_rf)\n",
    "pred2_rf = foo.predict(X_test_rf)\n",
    "score1_rf = foo.score(X_train_rf, y_train_rf)\n",
    "score2_rf = foo.score(X_test_rf, y_test_rf)\n",
    "\n",
    "print([\"training score:\", score1_rf, \"test score:\", score2_rf])"
   ]
  },
  {
   "cell_type": "markdown",
   "metadata": {},
   "source": [
    "<h3 style=\"color:#3cb371\">Gradient Boosting Machine predicting the fine continuously</h3>"
   ]
  },
  {
   "cell_type": "code",
   "execution_count": 7,
   "metadata": {},
   "outputs": [
    {
     "name": "stdout",
     "output_type": "stream",
     "text": [
      "['training score:', 0.8414576911500216, 'test score:', 0.4201553651097273]\n"
     ]
    }
   ],
   "source": [
    "X_train_gb, X_test_gb, y_train_gb, y_test_gb = train_test_split(X, y, test_size = 0.3)\n",
    "foo = GradientBoostingRegressor(random_state=48, max_features=100, n_iter_no_change=8, \n",
    "                                 tol=0.001, n_estimators=200)\n",
    "foo.fit(X_train_gb, y_train_gb)\n",
    "pred1_gb = foo.predict(X_train_gb)\n",
    "pred2_gb = foo.predict(X_test_gb)\n",
    "score1_gb = foo.score(X_train_gb, y_train_gb)\n",
    "score2_gb = foo.score(X_test_gb, y_test_gb)\n",
    "print([\"training score:\", score1_gb, \"test score:\", score2_gb])"
   ]
  },
  {
   "cell_type": "markdown",
   "metadata": {},
   "source": [
    "<h3>Summary of performance of continuous models</h3>"
   ]
  },
  {
   "cell_type": "code",
   "execution_count": 8,
   "metadata": {},
   "outputs": [
    {
     "data": {
      "text/html": [
       "<div>\n",
       "<style scoped>\n",
       "    .dataframe tbody tr th:only-of-type {\n",
       "        vertical-align: middle;\n",
       "    }\n",
       "\n",
       "    .dataframe tbody tr th {\n",
       "        vertical-align: top;\n",
       "    }\n",
       "\n",
       "    .dataframe thead th {\n",
       "        text-align: right;\n",
       "    }\n",
       "</style>\n",
       "<table border=\"1\" class=\"dataframe\">\n",
       "  <thead>\n",
       "    <tr style=\"text-align: right;\">\n",
       "      <th></th>\n",
       "      <th>MultinomialNB</th>\n",
       "      <th>RandomForest</th>\n",
       "      <th>GradientBoost</th>\n",
       "    </tr>\n",
       "  </thead>\n",
       "  <tbody>\n",
       "    <tr>\n",
       "      <th>Train</th>\n",
       "      <td>0.614</td>\n",
       "      <td>0.802</td>\n",
       "      <td>0.841</td>\n",
       "    </tr>\n",
       "    <tr>\n",
       "      <th>Test</th>\n",
       "      <td>0.451</td>\n",
       "      <td>0.532</td>\n",
       "      <td>0.420</td>\n",
       "    </tr>\n",
       "  </tbody>\n",
       "</table>\n",
       "</div>"
      ],
      "text/plain": [
       "       MultinomialNB  RandomForest  GradientBoost\n",
       "Train          0.614         0.802          0.841\n",
       "Test           0.451         0.532          0.420"
      ]
     },
     "execution_count": 8,
     "metadata": {},
     "output_type": "execute_result"
    }
   ],
   "source": [
    "summary = pd.DataFrame(\n",
    "    {\"MultinomialNB\": [score1_nb, score2_nb],\n",
    "     \"RandomForest\": [score1_rf, score2_rf],\n",
    "     \"GradientBoost\": [score1_gb, score2_gb]\n",
    "    })\n",
    "summary.index = ['Train', 'Test']\n",
    "summary.round(3)"
   ]
  },
  {
   "cell_type": "code",
   "execution_count": 9,
   "metadata": {},
   "outputs": [],
   "source": [
    "# The Random Forest model performed most accurately, so I will use it for illustration."
   ]
  },
  {
   "cell_type": "code",
   "execution_count": 10,
   "metadata": {},
   "outputs": [
    {
     "data": {
      "text/plain": [
       "<matplotlib.axes._subplots.AxesSubplot at 0x2726475ec50>"
      ]
     },
     "execution_count": 10,
     "metadata": {},
     "output_type": "execute_result"
    },
    {
     "data": {
      "image/png": "[encoded data removed]",
      "text/plain": [
       "<Figure size 1080x720 with 1 Axes>"
      ]
     },
     "metadata": {
      "needs_background": "light"
     },
     "output_type": "display_data"
    }
   ],
   "source": [
    "comparison = pd.DataFrame({\"actual\":y_test_rf, \"pred\":pred2_rf})\n",
    "comparison['SqError'] = (comparison['actual'] - comparison['pred'])**2\n",
    "comparison['pred'].hist()"
   ]
  },
  {
   "cell_type": "code",
   "execution_count": 11,
   "metadata": {},
   "outputs": [
    {
     "data": {
      "text/plain": [
       "7811.49899569638"
      ]
     },
     "execution_count": 11,
     "metadata": {},
     "output_type": "execute_result"
    }
   ],
   "source": [
    "# Calculate standard deviation of the random forest estimates\n",
    "(sum(comparison['SqError'])/len(comparison))**0.5"
   ]
  },
  {
   "cell_type": "code",
   "execution_count": 12,
   "metadata": {},
   "outputs": [
    {
     "data": {
      "text/plain": [
       "(0.7319703351800677, 5.754277271450478e-146)"
      ]
     },
     "execution_count": 12,
     "metadata": {},
     "output_type": "execute_result"
    }
   ],
   "source": [
    "# Calculate pearson correlation of the random forest estimates with the true values\n",
    "import scipy as sp\n",
    "\n",
    "sp.stats.pearsonr(comparison.actual, comparison.pred)"
   ]
  },
  {
   "cell_type": "code",
   "execution_count": 13,
   "metadata": {},
   "outputs": [
    {
     "data": {
      "image/png": "[encoded data removed]",
      "text/plain": [
       "<Figure size 1080x720 with 1 Axes>"
      ]
     },
     "metadata": {
      "needs_background": "light"
     },
     "output_type": "display_data"
    }
   ],
   "source": [
    "# Illustrate the scatterplot of actual fines vs. predicted fines\n",
    "\n",
    "# Notice that the model is relatively good at predicting very high and very low fines,\n",
    "# but the model tends to guess $15,000 for many ambiguous cases with little or no ability\n",
    "# to discriminate between very low and moderately-low fines.\n",
    "\n",
    "plt.scatter(comparison.actual, comparison.pred, alpha=0.2)\n",
    "plt.xlabel('Actual Fine')\n",
    "plt.ylabel('Predicted Fine')\n",
    "plt.show()"
   ]
  }
 ],
 "metadata": {
  "kernelspec": {
   "display_name": "Python 3",
   "language": "python",
   "name": "python3"
  },
  "language_info": {
   "codemirror_mode": {
    "name": "ipython",
    "version": 3
   },
   "file_extension": ".py",
   "mimetype": "text/x-python",
   "name": "python",
   "nbconvert_exporter": "python",
   "pygments_lexer": "ipython3",
   "version": "3.6.9"
  }
 },
 "nbformat": 4,
 "nbformat_minor": 2
}
