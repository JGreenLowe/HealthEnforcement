{
 "cells": [
  {
   "cell_type": "code",
   "execution_count": 49,
   "metadata": {},
   "outputs": [],
   "source": [
    "import pandas as pd\n",
    "import numpy as np\n",
    "import spacy\n",
    "import re\n",
    "\n",
    "from gensim.models import Phrases, LdaModel, CoherenceModel, Word2Vec\n",
    "from gensim.models.word2vec import LineSentence\n",
    "from gensim.corpora import Dictionary, MmCorpus\n",
    "from gensim.test.utils import datapath\n",
    "\n",
    "import pyLDAvis\n",
    "import pyLDAvis.gensim\n",
    "\n",
    "from ast import literal_eval"
   ]
  },
  {
   "cell_type": "code",
   "execution_count": 50,
   "metadata": {},
   "outputs": [
    {
     "data": {
      "text/html": [
       "<div>\n",
       "<style scoped>\n",
       "    .dataframe tbody tr th:only-of-type {\n",
       "        vertical-align: middle;\n",
       "    }\n",
       "\n",
       "    .dataframe tbody tr th {\n",
       "        vertical-align: top;\n",
       "    }\n",
       "\n",
       "    .dataframe thead th {\n",
       "        text-align: right;\n",
       "    }\n",
       "</style>\n",
       "<table border=\"1\" class=\"dataframe\">\n",
       "  <thead>\n",
       "    <tr style=\"text-align: right;\">\n",
       "      <th></th>\n",
       "      <th>Unnamed: 0</th>\n",
       "      <th>NUM</th>\n",
       "      <th>FACILITY</th>\n",
       "      <th>DATE</th>\n",
       "      <th>FINE</th>\n",
       "      <th>NARRATIVE</th>\n",
       "      <th>TRIGRAMS</th>\n",
       "    </tr>\n",
       "  </thead>\n",
       "  <tbody>\n",
       "    <tr>\n",
       "      <th>0</th>\n",
       "      <td>0</td>\n",
       "      <td>20008964</td>\n",
       "      <td>FREMONT HEALTHCARE CENTER</td>\n",
       "      <td>2012-02-01</td>\n",
       "      <td>$750</td>\n",
       "      <td>F323 483.25(h) FREE OF ACCIDENT HAZARDS/SUPERV...</td>\n",
       "      <td>[hazard_supervision_device, device_prevent_acc...</td>\n",
       "    </tr>\n",
       "    <tr>\n",
       "      <th>1</th>\n",
       "      <td>1</td>\n",
       "      <td>20009068</td>\n",
       "      <td>WILLOW TREE NURSING CENTER</td>\n",
       "      <td>2012-03-02</td>\n",
       "      <td>$750</td>\n",
       "      <td>Title 22 72520 (a) If a patient of a skilled n...</td>\n",
       "      <td>[skilled_nursing_facility, hospital_define_sec...</td>\n",
       "    </tr>\n",
       "    <tr>\n",
       "      <th>2</th>\n",
       "      <td>2</td>\n",
       "      <td>20009069</td>\n",
       "      <td>KINDRED NURSING AND REHABILITATION - YGNACIO V...</td>\n",
       "      <td>2012-03-02</td>\n",
       "      <td>$750</td>\n",
       "      <td>483.12(b) (3) Permitting Resident to Return to...</td>\n",
       "      <td>[bed_hold_period, facility_immediately_availab...</td>\n",
       "    </tr>\n",
       "    <tr>\n",
       "      <th>3</th>\n",
       "      <td>3</td>\n",
       "      <td>20009078</td>\n",
       "      <td>BAY VIEW REHABILITATION HOSPITAL, LLC</td>\n",
       "      <td>2012-03-05</td>\n",
       "      <td>$37,500</td>\n",
       "      <td>483.25 PROVIDE CARE/SERVICES FOR HIGHEST WELL ...</td>\n",
       "      <td>[service_high_beingeach, facility_provide_nece...</td>\n",
       "    </tr>\n",
       "    <tr>\n",
       "      <th>4</th>\n",
       "      <td>4</td>\n",
       "      <td>20009082</td>\n",
       "      <td>LONE TREE CONVALESCENT HOSPITAL</td>\n",
       "      <td>2012-03-06</td>\n",
       "      <td>$600</td>\n",
       "      <td>T22 DIV5 CH3 ART3-72311(a)(1)(A) Nursing Servi...</td>\n",
       "      <td>[nursing_service_shall, include_limit_followin...</td>\n",
       "    </tr>\n",
       "  </tbody>\n",
       "</table>\n",
       "</div>"
      ],
      "text/plain": [
       "   Unnamed: 0       NUM                                           FACILITY  \\\n",
       "0           0  20008964                          FREMONT HEALTHCARE CENTER   \n",
       "1           1  20009068                         WILLOW TREE NURSING CENTER   \n",
       "2           2  20009069  KINDRED NURSING AND REHABILITATION - YGNACIO V...   \n",
       "3           3  20009078              BAY VIEW REHABILITATION HOSPITAL, LLC   \n",
       "4           4  20009082                    LONE TREE CONVALESCENT HOSPITAL   \n",
       "\n",
       "         DATE    FINE                                          NARRATIVE  \\\n",
       "0  2012-02-01    $750  F323 483.25(h) FREE OF ACCIDENT HAZARDS/SUPERV...   \n",
       "1  2012-03-02    $750  Title 22 72520 (a) If a patient of a skilled n...   \n",
       "2  2012-03-02    $750  483.12(b) (3) Permitting Resident to Return to...   \n",
       "3  2012-03-05 $37,500  483.25 PROVIDE CARE/SERVICES FOR HIGHEST WELL ...   \n",
       "4  2012-03-06    $600  T22 DIV5 CH3 ART3-72311(a)(1)(A) Nursing Servi...   \n",
       "\n",
       "                                            TRIGRAMS  \n",
       "0  [hazard_supervision_device, device_prevent_acc...  \n",
       "1  [skilled_nursing_facility, hospital_define_sec...  \n",
       "2  [bed_hold_period, facility_immediately_availab...  \n",
       "3  [service_high_beingeach, facility_provide_nece...  \n",
       "4  [nursing_service_shall, include_limit_followin...  "
      ]
     },
     "execution_count": 50,
     "metadata": {},
     "output_type": "execute_result"
    }
   ],
   "source": [
    "data = pd.read_csv(\"../data/interim/trigrams3.csv\")\n",
    "data['TRIGRAMS'] = data['TRIGRAMS'].apply(literal_eval)\n",
    "data.head()"
   ]
  },
  {
   "cell_type": "code",
   "execution_count": 51,
   "metadata": {},
   "outputs": [],
   "source": [
    "def remove_numbers(corpus):\n",
    "    regexp = re.compile(r'^[0-9]*$')\n",
    "    return [[word for word in line if not regexp.search(word)] for line in corpus]"
   ]
  },
  {
   "cell_type": "code",
   "execution_count": 52,
   "metadata": {},
   "outputs": [],
   "source": [
    "# Fill a dictionary with all of the words and phrases in the corpus, except for pure numbers like \"2016\", which\n",
    "# do not contain much valuable info about what topic a narrative belongs to. Filter out words that occur too often\n",
    "# or not often enough. Then convert the dictionary to vectors.\n",
    "\n",
    "corpus = data['TRIGRAMS'].tolist()\n",
    "corpus = remove_numbers(corpus)\n",
    "dct = Dictionary(corpus)\n",
    "dct.filter_extremes(no_below=2, no_above=0.15)\n",
    "corpus_nums = [dct.doc2bow(text) for text in corpus]"
   ]
  },
  {
   "cell_type": "code",
   "execution_count": 53,
   "metadata": {},
   "outputs": [
    {
     "name": "stdout",
     "output_type": "stream",
     "text": [
      "Wall time: 200 ms\n"
     ]
    }
   ],
   "source": [
    "%%time\n",
    "\n",
    "# Train an LDA model, somewhat more carefully, using the hyperparameters that were close to optimal in the previous\n",
    "# notebook. Although a 3-topic model had slightly more coherence, that is less interesting than an 8-topic model,\n",
    "# and the coherence statistics were very similar.\n",
    "\n",
    "retrainFullModel = False\n",
    "\n",
    "if retrainFullModel:\n",
    "    full_lda_model = LdaModel(corpus_nums, num_topics=8, id2word=dct, passes=60, iterations=1200, \n",
    "                         alpha=0.9, eta=0.9, random_state=42)\n",
    "    full_lda_model.save(\"../models/full_lda\")\n",
    "    dct.save_as_text(\"../models/full_lda_dct\")\n",
    "\n",
    "full_lda_model = LdaModel.load(\"../models/full_lda\")\n",
    "dct = Dictionary.load_from_text(\"../models/full_lda_dct\")"
   ]
  },
  {
   "cell_type": "code",
   "execution_count": 54,
   "metadata": {},
   "outputs": [
    {
     "name": "stdout",
     "output_type": "stream",
     "text": [
      "[('oxygen', 0.59), ('tube', 0.55), ('gach', 0.51), ('urinary', 0.32), ('respiratory', 0.32)]\n",
      "\n",
      "\n",
      "[('dcs', 0.53), ('sexual', 0.31), ('police', 0.23), ('disability', 0.22), ('october', 0.2)]\n",
      "\n",
      "\n"
     ]
    }
   ],
   "source": [
    "# Test that model was successful\n",
    "for topic in range(2):\n",
    "    print([(a, round(b*100, 2)) for (a, b) in full_lda_model.show_topic(topic, topn=5)])\n",
    "    print(\"\\n\")"
   ]
  },
  {
   "cell_type": "code",
   "execution_count": 55,
   "metadata": {},
   "outputs": [],
   "source": [
    "def get_best_topic(document, model):\n",
    "    best_topic = None\n",
    "    best_prob = 0\n",
    "    candidates = model.get_document_topics(document)\n",
    "    for (topic, prob) in candidates:\n",
    "        if prob > best_prob:\n",
    "            best_topic = topic\n",
    "            best_prob = prob\n",
    "    return best_topic"
   ]
  },
  {
   "cell_type": "code",
   "execution_count": 56,
   "metadata": {},
   "outputs": [],
   "source": [
    "# Assign each dcoument to the topic that it is most strongly associated with\n",
    "\n",
    "data.loc[:, 'TOPIC'] = [get_best_topic(corpus_nums[row], full_lda_model) \n",
    "                        for row in range(len(data))]"
   ]
  },
  {
   "cell_type": "code",
   "execution_count": 57,
   "metadata": {},
   "outputs": [
    {
     "data": {
      "text/html": [
       "<div>\n",
       "<style scoped>\n",
       "    .dataframe tbody tr th:only-of-type {\n",
       "        vertical-align: middle;\n",
       "    }\n",
       "\n",
       "    .dataframe tbody tr th {\n",
       "        vertical-align: top;\n",
       "    }\n",
       "\n",
       "    .dataframe thead th {\n",
       "        text-align: right;\n",
       "    }\n",
       "</style>\n",
       "<table border=\"1\" class=\"dataframe\">\n",
       "  <thead>\n",
       "    <tr style=\"text-align: right;\">\n",
       "      <th></th>\n",
       "      <th>Unnamed: 0</th>\n",
       "      <th>NUM</th>\n",
       "      <th>FACILITY</th>\n",
       "      <th>DATE</th>\n",
       "      <th>FINE</th>\n",
       "      <th>NARRATIVE</th>\n",
       "      <th>TRIGRAMS</th>\n",
       "      <th>TOPIC</th>\n",
       "    </tr>\n",
       "  </thead>\n",
       "  <tbody>\n",
       "    <tr>\n",
       "      <th>0</th>\n",
       "      <td>0</td>\n",
       "      <td>20008964</td>\n",
       "      <td>FREMONT HEALTHCARE CENTER</td>\n",
       "      <td>2012-02-01</td>\n",
       "      <td>$750</td>\n",
       "      <td>F323 483.25(h) FREE OF ACCIDENT HAZARDS/SUPERV...</td>\n",
       "      <td>[hazard_supervision_device, device_prevent_acc...</td>\n",
       "      <td>3</td>\n",
       "    </tr>\n",
       "    <tr>\n",
       "      <th>1</th>\n",
       "      <td>1</td>\n",
       "      <td>20009068</td>\n",
       "      <td>WILLOW TREE NURSING CENTER</td>\n",
       "      <td>2012-03-02</td>\n",
       "      <td>$750</td>\n",
       "      <td>Title 22 72520 (a) If a patient of a skilled n...</td>\n",
       "      <td>[skilled_nursing_facility, hospital_define_sec...</td>\n",
       "      <td>0</td>\n",
       "    </tr>\n",
       "    <tr>\n",
       "      <th>2</th>\n",
       "      <td>2</td>\n",
       "      <td>20009069</td>\n",
       "      <td>KINDRED NURSING AND REHABILITATION - YGNACIO V...</td>\n",
       "      <td>2012-03-02</td>\n",
       "      <td>$750</td>\n",
       "      <td>483.12(b) (3) Permitting Resident to Return to...</td>\n",
       "      <td>[bed_hold_period, facility_immediately_availab...</td>\n",
       "      <td>0</td>\n",
       "    </tr>\n",
       "    <tr>\n",
       "      <th>3</th>\n",
       "      <td>3</td>\n",
       "      <td>20009078</td>\n",
       "      <td>BAY VIEW REHABILITATION HOSPITAL, LLC</td>\n",
       "      <td>2012-03-05</td>\n",
       "      <td>$37,500</td>\n",
       "      <td>483.25 PROVIDE CARE/SERVICES FOR HIGHEST WELL ...</td>\n",
       "      <td>[service_high_beingeach, facility_provide_nece...</td>\n",
       "      <td>0</td>\n",
       "    </tr>\n",
       "    <tr>\n",
       "      <th>4</th>\n",
       "      <td>4</td>\n",
       "      <td>20009082</td>\n",
       "      <td>LONE TREE CONVALESCENT HOSPITAL</td>\n",
       "      <td>2012-03-06</td>\n",
       "      <td>$600</td>\n",
       "      <td>T22 DIV5 CH3 ART3-72311(a)(1)(A) Nursing Servi...</td>\n",
       "      <td>[nursing_service_shall, include_limit_followin...</td>\n",
       "      <td>4</td>\n",
       "    </tr>\n",
       "  </tbody>\n",
       "</table>\n",
       "</div>"
      ],
      "text/plain": [
       "   Unnamed: 0       NUM                                           FACILITY  \\\n",
       "0           0  20008964                          FREMONT HEALTHCARE CENTER   \n",
       "1           1  20009068                         WILLOW TREE NURSING CENTER   \n",
       "2           2  20009069  KINDRED NURSING AND REHABILITATION - YGNACIO V...   \n",
       "3           3  20009078              BAY VIEW REHABILITATION HOSPITAL, LLC   \n",
       "4           4  20009082                    LONE TREE CONVALESCENT HOSPITAL   \n",
       "\n",
       "         DATE    FINE                                          NARRATIVE  \\\n",
       "0  2012-02-01    $750  F323 483.25(h) FREE OF ACCIDENT HAZARDS/SUPERV...   \n",
       "1  2012-03-02    $750  Title 22 72520 (a) If a patient of a skilled n...   \n",
       "2  2012-03-02    $750  483.12(b) (3) Permitting Resident to Return to...   \n",
       "3  2012-03-05 $37,500  483.25 PROVIDE CARE/SERVICES FOR HIGHEST WELL ...   \n",
       "4  2012-03-06    $600  T22 DIV5 CH3 ART3-72311(a)(1)(A) Nursing Servi...   \n",
       "\n",
       "                                            TRIGRAMS  TOPIC  \n",
       "0  [hazard_supervision_device, device_prevent_acc...      3  \n",
       "1  [skilled_nursing_facility, hospital_define_sec...      0  \n",
       "2  [bed_hold_period, facility_immediately_availab...      0  \n",
       "3  [service_high_beingeach, facility_provide_nece...      0  \n",
       "4  [nursing_service_shall, include_limit_followin...      4  "
      ]
     },
     "execution_count": 57,
     "metadata": {},
     "output_type": "execute_result"
    }
   ],
   "source": [
    "data.head()"
   ]
  },
  {
   "cell_type": "code",
   "execution_count": 58,
   "metadata": {},
   "outputs": [
    {
     "data": {
      "text/html": [
       "<div>\n",
       "<style scoped>\n",
       "    .dataframe tbody tr th:only-of-type {\n",
       "        vertical-align: middle;\n",
       "    }\n",
       "\n",
       "    .dataframe tbody tr th {\n",
       "        vertical-align: top;\n",
       "    }\n",
       "\n",
       "    .dataframe thead th {\n",
       "        text-align: right;\n",
       "    }\n",
       "</style>\n",
       "<table border=\"1\" class=\"dataframe\">\n",
       "  <thead>\n",
       "    <tr style=\"text-align: right;\">\n",
       "      <th></th>\n",
       "      <th>FINE</th>\n",
       "    </tr>\n",
       "  </thead>\n",
       "  <tbody>\n",
       "    <tr>\n",
       "      <th>CPR</th>\n",
       "      <td>$13,252</td>\n",
       "    </tr>\n",
       "    <tr>\n",
       "      <th>Sores</th>\n",
       "      <td>$9,448</td>\n",
       "    </tr>\n",
       "    <tr>\n",
       "      <th>Burns</th>\n",
       "      <td>$6,706</td>\n",
       "    </tr>\n",
       "    <tr>\n",
       "      <th>Diabetes</th>\n",
       "      <td>$5,468</td>\n",
       "    </tr>\n",
       "    <tr>\n",
       "      <th>Diet</th>\n",
       "      <td>$3,736</td>\n",
       "    </tr>\n",
       "    <tr>\n",
       "      <th>Abuse</th>\n",
       "      <td>$3,619</td>\n",
       "    </tr>\n",
       "    <tr>\n",
       "      <th>Rashes</th>\n",
       "      <td>$2,663</td>\n",
       "    </tr>\n",
       "    <tr>\n",
       "      <th>Theft</th>\n",
       "      <td>$1,732</td>\n",
       "    </tr>\n",
       "  </tbody>\n",
       "</table>\n",
       "</div>"
      ],
      "text/plain": [
       "            FINE\n",
       "CPR      $13,252\n",
       "Sores     $9,448\n",
       "Burns     $6,706\n",
       "Diabetes  $5,468\n",
       "Diet      $3,736\n",
       "Abuse     $3,619\n",
       "Rashes    $2,663\n",
       "Theft     $1,732"
      ]
     },
     "execution_count": 58,
     "metadata": {},
     "output_type": "execute_result"
    }
   ],
   "source": [
    "# Group the documents based on topic and calculate the average fine for each topic\n",
    "\n",
    "means = data.groupby(['TOPIC']).mean()\n",
    "means.index = [\"CPR\", \"Abuse\", \"Theft\", \"Burns\", \"Sores\", \"Diet\", \"Rashes\", \"Diabetes\"]\n",
    "pd.options.display.float_format = '${:,.0f}'.format\n",
    "means = means.sort_values('FINE', ascending=False)\n",
    "means = means.drop(['Unnamed: 0', 'NUM'], axis=1)\n",
    "means"
   ]
  },
  {
   "cell_type": "code",
   "execution_count": 59,
   "metadata": {},
   "outputs": [
    {
     "data": {
      "image/png": "[encoded data removed]",
      "text/plain": [
       "<Figure size 864x576 with 1 Axes>"
      ]
     },
     "metadata": {
      "needs_background": "light"
     },
     "output_type": "display_data"
    }
   ],
   "source": [
    "# Graph the average fine per topic\n",
    "\n",
    "from matplotlib import pyplot as plt\n",
    "plt.rcParams[\"figure.figsize\"] = (12,8)\n",
    "plt.bar(means.index, means['FINE'])\n",
    "plt.ylabel('Dollar Amount of Fine')\n",
    "plt.xlabel('Topic of Narrative Report')\n",
    "plt.title('Average Fines by Topic')\n",
    "plt.rcParams.update({'font.size': 16})\n",
    "plt.show()"
   ]
  },
  {
   "cell_type": "code",
   "execution_count": 60,
   "metadata": {},
   "outputs": [
    {
     "name": "stdout",
     "output_type": "stream",
     "text": [
      "[('oxygen', 0.59), ('tube', 0.55), ('gach', 0.51), ('urinary', 0.32), ('respiratory', 0.32), ('urine', 0.31), ('catheter', 0.31), ('cpr', 0.28), ('breathing', 0.27), ('paramedic', 0.23), ('blood_pressure', 0.23), ('rate', 0.22), ('change_condition', 0.22), ('lung', 0.22), ('bowel', 0.21)]\n",
      "\n",
      "\n",
      "[('dcs', 0.53), ('sexual', 0.31), ('police', 0.23), ('disability', 0.22), ('october', 0.2), ('yell', 0.19), ('february', 0.19), ('july', 0.19), ('ln', 0.18), ('qidp', 0.18), ('january', 0.18), ('right_free', 0.18), ('september', 0.17), ('aggressive', 0.16), ('wander', 0.16)]\n",
      "\n",
      "\n",
      "[('account', 1.79), ('trust', 1.2), ('ad', 0.69), ('trust_account', 0.67), ('fund', 0.67), ('money', 0.63), ('o', 0.62), ('$', 0.61), ('snf', 0.51), ('transfer_discharge', 0.49), ('ssd', 0.44), ('o_ad', 0.41), ('restraint', 0.37), ('bank', 0.37), ('monie', 0.35)]\n",
      "\n",
      "\n",
      "[('drug', 0.73), ('temperature', 0.63), ('water', 0.57), ('mar', 0.41), ('degree', 0.4), ('dose', 0.36), ('hot', 0.36), ('tablet', 0.35), ('july', 0.31), ('narcotic', 0.28), ('burn', 0.27), ('food', 0.25), ('kitchen', 0.25), ('medication_administration', 0.21), ('pharmacy', 0.21)]\n",
      "\n",
      "\n",
      "[('wound', 0.67), ('ulcer', 0.55), ('sore', 0.45), ('alarm', 0.45), ('lift', 0.41), ('cm', 0.41), ('hip', 0.4), ('pressure_ulcer', 0.36), ('pressure_sore', 0.29), ('tissue', 0.26), ('stage', 0.26), ('shower', 0.24), ('gach', 0.22), ('rail', 0.21), ('dcs', 0.21)]\n",
      "\n",
      "\n",
      "[('weight', 0.65), ('food', 0.57), ('unknown', 0.41), ('injury_unknown', 0.35), ('diet', 0.34), ('certification', 0.33), ('local', 0.29), ('misappropriation', 0.28), ('survey', 0.28), ('exploitation', 0.27), ('ombudsman', 0.25), ('source', 0.25), ('rd', 0.23), ('licensing', 0.22), ('meal', 0.22)]\n",
      "\n",
      "\n",
      "[('rash', 1.15), ('scabie', 1.05), ('infection_control', 0.36), ('outbreak', 0.35), ('cream', 0.34), ('isolation', 0.33), ('skin_rash', 0.28), ('elimite', 0.27), ('itching', 0.26), ('spread', 0.23), ('mite', 0.2), ('itch', 0.19), ('dermatologist', 0.17), ('surveillance', 0.17), ('precaution', 0.15)]\n",
      "\n",
      "\n",
      "[('sugar', 0.81), ('fluid', 0.76), ('dl', 0.65), ('blood_sugar', 0.64), ('insulin', 0.61), ('intake', 0.49), ('smoking', 0.49), ('dehydration', 0.43), ('fire', 0.41), ('mg_dl', 0.39), ('meal', 0.36), ('sprinkler', 0.35), ('smoke', 0.3), ('glucose', 0.29), ('installation', 0.27)]\n",
      "\n",
      "\n"
     ]
    }
   ],
   "source": [
    "# List the most common words in each topic\n",
    "\n",
    "for topic in range(8):\n",
    "    print([(a, round(b*100, 2)) for (a, b) in full_lda_model.show_topic(topic, topn=15)])\n",
    "    print(\"\\n\")"
   ]
  }
 ],
 "metadata": {
  "kernelspec": {
   "display_name": "Python 3",
   "language": "python",
   "name": "python3"
  },
  "language_info": {
   "codemirror_mode": {
    "name": "ipython",
    "version": 3
   },
   "file_extension": ".py",
   "mimetype": "text/x-python",
   "name": "python",
   "nbconvert_exporter": "python",
   "pygments_lexer": "ipython3",
   "version": "3.6.9"
  }
 },
 "nbformat": 4,
 "nbformat_minor": 2
}
